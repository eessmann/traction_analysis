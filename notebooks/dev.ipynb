{
 "cells": [
  {
   "cell_type": "code",
   "id": "d7558d02a690ea2a",
   "metadata": {
    "collapsed": false,
    "ExecuteTime": {
     "end_time": "2024-04-17T13:54:57.524632Z",
     "start_time": "2024-04-17T13:54:56.685392Z"
    }
   },
   "source": [
    "import pyvista as pv\n",
    "import numpy as np\n",
    "import traction_analysis as ta\n",
    "import cProfile"
   ],
   "outputs": [],
   "execution_count": 1
  },
  {
   "cell_type": "code",
   "source": "",
   "metadata": {
    "collapsed": false,
    "ExecuteTime": {
     "end_time": "2024-04-17T13:55:01.757579Z",
     "start_time": "2024-04-17T13:55:01.557174Z"
    }
   },
   "id": "35c21864e325ff96",
   "outputs": [
    {
     "ename": "AttributeError",
     "evalue": "module 'traction_analysis' has no attribute 'TractionAnalysis'",
     "output_type": "error",
     "traceback": [
      "\u001B[0;31m---------------------------------------------------------------------------\u001B[0m",
      "\u001B[0;31mAttributeError\u001B[0m                            Traceback (most recent call last)",
      "Cell \u001B[0;32mIn[2], line 1\u001B[0m\n\u001B[0;32m----> 1\u001B[0m processor \u001B[38;5;241m=\u001B[39m \u001B[43mta\u001B[49m\u001B[38;5;241;43m.\u001B[39;49m\u001B[43mTractionAnalysis\u001B[49m(\u001B[38;5;124m\"\u001B[39m\u001B[38;5;124m/home/data/analysis/Simulation/pressure_analysis/pressure_analysis_converted/z4/VTKFluid/Fluid_t200000.vtr\u001B[39m\u001B[38;5;124m\"\u001B[39m, \u001B[38;5;124m\"\u001B[39m\u001B[38;5;124m/home/data/analysis/Simulation/pressure_analysis/pressure_analysis_converted/z4/VTKParticles/Particles_t200000.vtp\u001B[39m\u001B[38;5;124m\"\u001B[39m)\n",
      "\u001B[0;31mAttributeError\u001B[0m: module 'traction_analysis' has no attribute 'TractionAnalysis'"
     ]
    }
   ],
   "execution_count": 2
  },
  {
   "cell_type": "code",
   "execution_count": 3,
   "outputs": [
    {
     "data": {
      "text/plain": "<traction_analysis.TractionAnalysis at 0x7f2a10683190>"
     },
     "execution_count": 3,
     "metadata": {},
     "output_type": "execute_result"
    }
   ],
   "source": [
    "processor.process()"
   ],
   "metadata": {
    "collapsed": false,
    "ExecuteTime": {
     "end_time": "2023-10-23T14:04:04.283105681Z",
     "start_time": "2023-10-23T14:04:04.145164222Z"
    }
   },
   "id": "f8a205e1690d600c"
  },
  {
   "cell_type": "code",
   "execution_count": 4,
   "outputs": [],
   "source": [
    "traction = np.array(processor.resampled_mesh.point_data[\"traction\"])"
   ],
   "metadata": {
    "collapsed": false,
    "ExecuteTime": {
     "end_time": "2023-10-23T14:04:04.283356663Z",
     "start_time": "2023-10-23T14:04:04.272640610Z"
    }
   },
   "id": "52242182785134f7"
  },
  {
   "cell_type": "code",
   "execution_count": 5,
   "outputs": [
    {
     "data": {
      "text/plain": "array([[-3.08170608e-06,  2.06801551e-05,  2.37370424e-05],\n       [-4.13327021e-05,  4.31709515e-05, -3.09830814e-05],\n       [-3.08170608e-06, -2.06801551e-05,  2.37370424e-05],\n       ...,\n       [ 1.07176180e-05,  3.10553290e-06,  2.48170759e-05],\n       [ 1.20853295e-05,  1.62828601e-06,  2.45630620e-05],\n       [ 1.08926617e-05,  1.55795513e-06,  2.55698581e-05]])"
     },
     "execution_count": 5,
     "metadata": {},
     "output_type": "execute_result"
    }
   ],
   "source": [
    "traction"
   ],
   "metadata": {
    "collapsed": false,
    "ExecuteTime": {
     "end_time": "2023-10-23T14:04:04.283614730Z",
     "start_time": "2023-10-23T14:04:04.275343261Z"
    }
   },
   "id": "73af38b1ade7abc6"
  },
  {
   "cell_type": "code",
   "execution_count": 12,
   "outputs": [
    {
     "data": {
      "text/plain": "<traction_analysis.TractionAnalysis at 0x7f2a10683190>"
     },
     "execution_count": 12,
     "metadata": {},
     "output_type": "execute_result"
    }
   ],
   "source": [
    "processor.calculate_traction_vec()"
   ],
   "metadata": {
    "collapsed": false,
    "ExecuteTime": {
     "end_time": "2023-10-23T14:09:00.058271262Z",
     "start_time": "2023-10-23T14:09:00.014609749Z"
    }
   },
   "id": "9e109691164b6cce"
  },
  {
   "cell_type": "code",
   "execution_count": 7,
   "outputs": [],
   "source": [
    "traction2 = np.array(processor.resampled_mesh.point_data[\"traction\"])"
   ],
   "metadata": {
    "collapsed": false,
    "ExecuteTime": {
     "end_time": "2023-10-23T14:04:04.336571710Z",
     "start_time": "2023-10-23T14:04:04.331180865Z"
    }
   },
   "id": "e8cc6732efe3072"
  },
  {
   "cell_type": "code",
   "execution_count": 8,
   "outputs": [
    {
     "data": {
      "text/plain": "array([[-3.08170608e-06,  2.06801551e-05,  2.37370424e-05],\n       [-4.13327021e-05,  4.31709515e-05, -3.09830814e-05],\n       [-3.08170608e-06, -2.06801551e-05,  2.37370424e-05],\n       ...,\n       [ 1.07176180e-05,  3.10553290e-06,  2.48170759e-05],\n       [ 1.20853295e-05,  1.62828601e-06,  2.45630620e-05],\n       [ 1.08926617e-05,  1.55795513e-06,  2.55698581e-05]])"
     },
     "execution_count": 8,
     "metadata": {},
     "output_type": "execute_result"
    }
   ],
   "source": [
    "traction2"
   ],
   "metadata": {
    "collapsed": false,
    "ExecuteTime": {
     "end_time": "2023-10-23T14:04:04.336829911Z",
     "start_time": "2023-10-23T14:04:04.331548050Z"
    }
   },
   "id": "bc0b438232d67134"
  },
  {
   "cell_type": "code",
   "execution_count": 9,
   "outputs": [
    {
     "data": {
      "text/plain": "array([[0.00000000e+00, 0.00000000e+00, 0.00000000e+00],\n       [0.00000000e+00, 0.00000000e+00, 0.00000000e+00],\n       [0.00000000e+00, 0.00000000e+00, 0.00000000e+00],\n       ...,\n       [0.00000000e+00, 0.00000000e+00, 0.00000000e+00],\n       [0.00000000e+00, 0.00000000e+00, 0.00000000e+00],\n       [1.69406589e-21, 0.00000000e+00, 0.00000000e+00]])"
     },
     "execution_count": 9,
     "metadata": {},
     "output_type": "execute_result"
    }
   ],
   "source": [
    "traction2 - traction"
   ],
   "metadata": {
    "collapsed": false,
    "ExecuteTime": {
     "end_time": "2023-10-23T14:04:04.337087083Z",
     "start_time": "2023-10-23T14:04:04.331877807Z"
    }
   },
   "id": "68db4fc2c24efbf7"
  },
  {
   "cell_type": "code",
   "execution_count": 13,
   "outputs": [],
   "source": [
    "tract, dev, press = processor.integrate_forces()"
   ],
   "metadata": {
    "collapsed": false,
    "ExecuteTime": {
     "end_time": "2023-10-23T14:09:32.195223501Z",
     "start_time": "2023-10-23T14:09:32.108730701Z"
    }
   },
   "id": "a677a3fd83f15f31"
  },
  {
   "cell_type": "code",
   "execution_count": 14,
   "outputs": [],
   "source": [
    "tract2, dev2, press2 = processor.integrate_forces_vec()"
   ],
   "metadata": {
    "collapsed": false,
    "ExecuteTime": {
     "end_time": "2023-10-23T14:09:52.234312549Z",
     "start_time": "2023-10-23T14:09:52.189337445Z"
    }
   },
   "id": "4b035597bae35420"
  },
  {
   "cell_type": "code",
   "execution_count": 15,
   "outputs": [
    {
     "data": {
      "text/plain": "array([0., 0., 0.])"
     },
     "execution_count": 15,
     "metadata": {},
     "output_type": "execute_result"
    }
   ],
   "source": [
    "tract2 - tract"
   ],
   "metadata": {
    "collapsed": false,
    "ExecuteTime": {
     "end_time": "2023-10-23T14:10:02.346219482Z",
     "start_time": "2023-10-23T14:10:02.333593666Z"
    }
   },
   "id": "5754edc097bcbc82"
  },
  {
   "cell_type": "code",
   "execution_count": 16,
   "outputs": [
    {
     "data": {
      "text/plain": "array([-1.15948064e-10,  1.85860730e-11,  5.18701543e-11])"
     },
     "execution_count": 16,
     "metadata": {},
     "output_type": "execute_result"
    }
   ],
   "source": [
    "dev2 - dev"
   ],
   "metadata": {
    "collapsed": false,
    "ExecuteTime": {
     "end_time": "2023-10-23T14:10:15.701597828Z",
     "start_time": "2023-10-23T14:10:15.660313467Z"
    }
   },
   "id": "c98214cf77da88cf"
  },
  {
   "cell_type": "code",
   "execution_count": 17,
   "outputs": [
    {
     "data": {
      "text/plain": "array([0., 0., 0.])"
     },
     "execution_count": 17,
     "metadata": {},
     "output_type": "execute_result"
    }
   ],
   "source": [
    "press2 - press"
   ],
   "metadata": {
    "collapsed": false,
    "ExecuteTime": {
     "end_time": "2023-10-23T14:10:22.382731691Z",
     "start_time": "2023-10-23T14:10:22.365648700Z"
    }
   },
   "id": "180d4987023b02ee"
  },
  {
   "cell_type": "code",
   "execution_count": null,
   "outputs": [],
   "source": [],
   "metadata": {
    "collapsed": false
   },
   "id": "9b8c86ed924da9d7"
  }
 ],
 "metadata": {
  "kernelspec": {
   "name": "python3",
   "language": "python",
   "display_name": "Python 3 (ipykernel)"
  },
  "language_info": {
   "codemirror_mode": {
    "name": "ipython",
    "version": 3
   },
   "file_extension": ".py",
   "mimetype": "text/x-python",
   "name": "python",
   "nbconvert_exporter": "python",
   "pygments_lexer": "ipython3",
   "version": "3.11.5"
  }
 },
 "nbformat": 4,
 "nbformat_minor": 5
}
