{
 "cells": [
  {
   "cell_type": "code",
   "execution_count": 1,
   "id": "d7558d02a690ea2a",
   "metadata": {
    "ExecuteTime": {
     "end_time": "2023-09-28T12:36:14.841548302Z",
     "start_time": "2023-09-28T12:36:14.764681837Z"
    },
    "collapsed": false,
    "jupyter": {
     "outputs_hidden": false
    }
   },
   "outputs": [],
   "source": [
    "import pyvista as pv\n",
    "import numpy as np\n",
    "import itertools"
   ]
  },
  {
   "cell_type": "code",
   "execution_count": 2,
   "id": "fdc57400e995412f",
   "metadata": {
    "collapsed": false,
    "editable": true,
    "jupyter": {
     "outputs_hidden": false
    },
    "slideshow": {
     "slide_type": ""
    },
    "tags": []
   },
   "outputs": [],
   "source": [
    "fluid = pv.read(\"../data/raw/pressure_analysis/z4/VTKFluid/Fluid_t200000.vtr\").point_data_to_cell_data()"
   ]
  },
  {
   "cell_type": "code",
   "execution_count": 8,
   "id": "f6cf36bc-de4e-49d3-95ed-d371f02649c6",
   "metadata": {},
   "outputs": [
    {
     "data": {
      "text/plain": [
       "pyvista DataSetAttributes\n",
       "Association     : CELL\n",
       "Active Scalars  : obstacles\n",
       "Active Vectors  : velocityVector\n",
       "Active Texture  : None\n",
       "Active Normals  : None\n",
       "Contains arrays :\n",
       "    inertialStressTensor    float32    (7185591, 9)\n",
       "    obstacleDistance        float32    (7185591,)\n",
       "    obstacles               float32    (7185591,)           SCALARS\n",
       "    pressure                float32    (7185591,)\n",
       "    velocityVector          float32    (7185591, 3)         VECTORS\n",
       "    viscousStressTensor     float32    (7185591, 9)         TENSORS"
      ]
     },
     "execution_count": 8,
     "metadata": {},
     "output_type": "execute_result"
    }
   ],
   "source": [
    "fluid.cell_data"
   ]
  },
  {
   "cell_type": "code",
   "execution_count": 11,
   "id": "c5dc51f3-aa76-408c-9aa5-c27768dcca68",
   "metadata": {},
   "outputs": [
    {
     "data": {
      "text/html": [
       "<table style='width: 100%;'><tr><th>Header</th><th>Data Arrays</th></tr><tr><td>\n",
       "<table style='width: 100%;'>\n",
       "<tr><th>PolyData</th><th>Information</th></tr>\n",
       "<tr><td>N Cells</td><td>7220</td></tr>\n",
       "<tr><td>N Points</td><td>3612</td></tr>\n",
       "<tr><td>N Strips</td><td>0</td></tr>\n",
       "<tr><td>X Bounds</td><td>4.763e+01, 7.965e+01</td></tr>\n",
       "<tr><td>Y Bounds</td><td>6.498e+01, 9.702e+01</td></tr>\n",
       "<tr><td>Z Bounds</td><td>3.728e+01, 6.926e+01</td></tr>\n",
       "<tr><td>N Arrays</td><td>4</td></tr>\n",
       "</table>\n",
       "\n",
       "</td><td>\n",
       "<table style='width: 100%;'>\n",
       "<tr><th>Name</th><th>Field</th><th>Type</th><th>N Comp</th><th>Min</th><th>Max</th></tr>\n",
       "<tr><td><b>areaDeviation</b></td><td>Cells</td><td>float32</td><td>1</td><td>-5.290e-03</td><td>6.410e-03</td></tr>\n",
       "<tr><td>maxAngle</td><td>Cells</td><td>float32</td><td>1</td><td>1.950e+00</td><td>2.780e+00</td></tr>\n",
       "<tr><td>particleIndex</td><td>Cells</td><td>int32</td><td>1</td><td>0.000e+00</td><td>0.000e+00</td></tr>\n",
       "<tr><td>rank</td><td>Cells</td><td>int32</td><td>1</td><td>1.940e+02</td><td>1.940e+02</td></tr>\n",
       "</table>\n",
       "\n",
       "</td></tr> </table>"
      ],
      "text/plain": [
       "PolyData (0x7f1312074640)\n",
       "  N Cells:    7220\n",
       "  N Points:   3612\n",
       "  N Strips:   0\n",
       "  X Bounds:   4.763e+01, 7.965e+01\n",
       "  Y Bounds:   6.498e+01, 9.702e+01\n",
       "  Z Bounds:   3.728e+01, 6.926e+01\n",
       "  N Arrays:   4"
      ]
     },
     "execution_count": 11,
     "metadata": {},
     "output_type": "execute_result"
    }
   ],
   "source": [
    "mesh = pv.read(\"../data/raw/pressure_analysis/z4/VTKParticles/Particles_t200000.vtp\")\n",
    "mesh"
   ]
  },
  {
   "cell_type": "code",
   "execution_count": 15,
   "id": "2c2ba5d8-508e-41c7-b311-a039cbc74879",
   "metadata": {},
   "outputs": [
    {
     "data": {
      "text/plain": [
       "pyvista DataSetAttributes\n",
       "Association     : CELL\n",
       "Active Scalars  : areaDeviation\n",
       "Active Vectors  : None\n",
       "Active Texture  : None\n",
       "Active Normals  : None\n",
       "Contains arrays :\n",
       "    areaDeviation           float32    (7220,)              SCALARS\n",
       "    maxAngle                float32    (7220,)\n",
       "    particleIndex           int32      (7220,)\n",
       "    rank                    int32      (7220,)\n",
       "    vtkGhostType            uint8      (7220,)"
      ]
     },
     "execution_count": 15,
     "metadata": {},
     "output_type": "execute_result"
    }
   ],
   "source": [
    "results = mesh.sample(fluid)\n",
    "results.cell_data"
   ]
  },
  {
   "cell_type": "code",
   "execution_count": 17,
   "id": "ab0d1196-f28b-4754-bf74-4f1f0fa16d77",
   "metadata": {},
   "outputs": [
    {
     "data": {
      "text/plain": [
       "pyvista_ndarray([[-0.7496653 , -0.53576785,  0.38852897],\n",
       "                 [ 0.7622213 , -0.54049253, -0.35621136],\n",
       "                 [-0.7496653 ,  0.53576785,  0.38852897],\n",
       "                 ...,\n",
       "                 [ 0.05388154,  0.11166087,  0.9922846 ],\n",
       "                 [ 0.09392958,  0.05648666,  0.9939751 ],\n",
       "                 [ 0.03473065,  0.05592673,  0.9978306 ]], dtype=float32)"
      ]
     },
     "execution_count": 17,
     "metadata": {},
     "output_type": "execute_result"
    }
   ],
   "source": [
    "results.point_normals"
   ]
  },
  {
   "cell_type": "code",
   "execution_count": 18,
   "id": "8e09289f-5847-47c0-bc0f-72949e5f1f68",
   "metadata": {},
   "outputs": [
    {
     "data": {
      "text/plain": [
       "pyvista_ndarray([[75.81499 , 89.46909 , 46.689808],\n",
       "                 [51.27837 , 89.477615, 59.90226 ],\n",
       "                 [75.81499 , 72.53091 , 46.689808],\n",
       "                 ...,\n",
       "                 [63.298992, 79.20905 , 37.405758],\n",
       "                 [62.659184, 80.09349 , 37.3785  ],\n",
       "                 [63.605587, 80.10281 , 37.316803]], dtype=float32)"
      ]
     },
     "execution_count": 18,
     "metadata": {},
     "output_type": "execute_result"
    }
   ],
   "source": [
    "results.points"
   ]
  },
  {
   "cell_type": "code",
   "execution_count": 19,
   "id": "f5990ab7-0acc-44a1-a612-f3e8b52153d0",
   "metadata": {},
   "outputs": [
    {
     "data": {
      "text/plain": [
       "True"
      ]
     },
     "execution_count": 19,
     "metadata": {},
     "output_type": "execute_result"
    }
   ],
   "source": [
    "results.is_all_triangles"
   ]
  },
  {
   "cell_type": "code",
   "execution_count": 20,
   "id": "d6800068-9e57-4b9a-9b19-480d6bcf0c0d",
   "metadata": {},
   "outputs": [
    {
     "data": {
      "text/plain": [
       "True"
      ]
     },
     "execution_count": 20,
     "metadata": {},
     "output_type": "execute_result"
    }
   ],
   "source": [
    "results.is_manifold"
   ]
  },
  {
   "cell_type": "code",
   "execution_count": 21,
   "id": "62ba04fb-12a0-49e0-a9a2-063a8b6aec9d",
   "metadata": {},
   "outputs": [
    {
     "data": {
      "text/plain": [
       "array([   3,   30,   12, ...,  534, 3611,  210])"
      ]
     },
     "execution_count": 21,
     "metadata": {},
     "output_type": "execute_result"
    }
   ],
   "source": [
    "results.faces"
   ]
  },
  {
   "cell_type": "code",
   "execution_count": 22,
   "id": "635456a9-fad6-4547-a684-aabaebb51050",
   "metadata": {},
   "outputs": [
    {
     "data": {
      "text/plain": [
       "17131.502029781353"
      ]
     },
     "execution_count": 22,
     "metadata": {},
     "output_type": "execute_result"
    }
   ],
   "source": [
    "results.volume"
   ]
  },
  {
   "cell_type": "code",
   "execution_count": 23,
   "id": "2a0365e4-86e8-46ac-894f-a9514577eb03",
   "metadata": {},
   "outputs": [
    {
     "data": {
      "text/plain": [
       "array([], dtype=int64)"
      ]
     },
     "execution_count": 23,
     "metadata": {},
     "output_type": "execute_result"
    }
   ],
   "source": [
    "results.verts"
   ]
  },
  {
   "cell_type": "code",
   "execution_count": 24,
   "id": "cae9b6a7-4ae0-4c28-84e5-fb60e68856db",
   "metadata": {},
   "outputs": [],
   "source": [
    "test = results.compute_cell_sizes(length=False, area=True, volume=False)"
   ]
  },
  {
   "cell_type": "code",
   "execution_count": 25,
   "id": "ee787735-1554-4460-b329-c3d343a4429b",
   "metadata": {},
   "outputs": [
    {
     "data": {
      "text/html": [
       "<table style='width: 100%;'><tr><th>Header</th><th>Data Arrays</th></tr><tr><td>\n",
       "<table style='width: 100%;'>\n",
       "<tr><th>PolyData</th><th>Information</th></tr>\n",
       "<tr><td>N Cells</td><td>7220</td></tr>\n",
       "<tr><td>N Points</td><td>3612</td></tr>\n",
       "<tr><td>N Strips</td><td>0</td></tr>\n",
       "<tr><td>X Bounds</td><td>4.763e+01, 7.965e+01</td></tr>\n",
       "<tr><td>Y Bounds</td><td>6.498e+01, 9.702e+01</td></tr>\n",
       "<tr><td>Z Bounds</td><td>3.728e+01, 6.926e+01</td></tr>\n",
       "<tr><td>N Arrays</td><td>14</td></tr>\n",
       "</table>\n",
       "\n",
       "</td><td>\n",
       "<table style='width: 100%;'>\n",
       "<tr><th>Name</th><th>Field</th><th>Type</th><th>N Comp</th><th>Min</th><th>Max</th></tr>\n",
       "<tr><td>inertialStressTensor</td><td>Points</td><td>float32</td><td>9</td><td>-4.168e-05</td><td>3.865e-04</td></tr>\n",
       "<tr><td>obstacleDistance</td><td>Points</td><td>float32</td><td>1</td><td>1.150e+01</td><td>3.900e+01</td></tr>\n",
       "<tr><td>obstacles</td><td>Points</td><td>float32</td><td>1</td><td>0.000e+00</td><td>0.000e+00</td></tr>\n",
       "<tr><td>pressure</td><td>Points</td><td>float32</td><td>1</td><td>-2.013e-04</td><td>2.104e-04</td></tr>\n",
       "<tr><td>velocityVector</td><td>Points</td><td>float32</td><td>3</td><td>-2.405e-03</td><td>1.965e-02</td></tr>\n",
       "<tr><td>viscousStressTensor</td><td>Points</td><td>float32</td><td>9</td><td>-1.959e-04</td><td>8.700e-05</td></tr>\n",
       "<tr><td>vtkValidPointMask</td><td>Points</td><td>int8</td><td>1</td><td>1.000e+00</td><td>1.000e+00</td></tr>\n",
       "<tr><td>vtkGhostType</td><td>Points</td><td>uint8</td><td>1</td><td>0.000e+00</td><td>0.000e+00</td></tr>\n",
       "<tr><td><b>areaDeviation</b></td><td>Cells</td><td>float32</td><td>1</td><td>-5.290e-03</td><td>6.410e-03</td></tr>\n",
       "<tr><td>maxAngle</td><td>Cells</td><td>float32</td><td>1</td><td>1.950e+00</td><td>2.780e+00</td></tr>\n",
       "<tr><td>particleIndex</td><td>Cells</td><td>int32</td><td>1</td><td>0.000e+00</td><td>0.000e+00</td></tr>\n",
       "<tr><td>rank</td><td>Cells</td><td>int32</td><td>1</td><td>1.940e+02</td><td>1.940e+02</td></tr>\n",
       "<tr><td>vtkGhostType</td><td>Cells</td><td>uint8</td><td>1</td><td>0.000e+00</td><td>0.000e+00</td></tr>\n",
       "<tr><td>Area</td><td>Cells</td><td>float64</td><td>1</td><td>4.117e-01</td><td>4.663e-01</td></tr>\n",
       "</table>\n",
       "\n",
       "</td></tr> </table>"
      ],
      "text/plain": [
       "PolyData (0x7f130773d3c0)\n",
       "  N Cells:    7220\n",
       "  N Points:   3612\n",
       "  N Strips:   0\n",
       "  X Bounds:   4.763e+01, 7.965e+01\n",
       "  Y Bounds:   6.498e+01, 9.702e+01\n",
       "  Z Bounds:   3.728e+01, 6.926e+01\n",
       "  N Arrays:   14"
      ]
     },
     "execution_count": 25,
     "metadata": {},
     "output_type": "execute_result"
    }
   ],
   "source": [
    "test"
   ]
  },
  {
   "cell_type": "code",
   "execution_count": 26,
   "id": "4b866a69-63ac-4d60-895c-f8f1c8fab835",
   "metadata": {},
   "outputs": [
    {
     "data": {
      "text/plain": [
       "3216.463861207664"
      ]
     },
     "execution_count": 26,
     "metadata": {},
     "output_type": "execute_result"
    }
   ],
   "source": [
    "test.cell_data[\"Area\"].sum()"
   ]
  },
  {
   "cell_type": "code",
   "execution_count": 27,
   "id": "f5f42d10-94df-46ad-92ea-6ee6f8f62b64",
   "metadata": {},
   "outputs": [],
   "source": [
    "test = test.cell_data_to_point_data()"
   ]
  },
  {
   "cell_type": "code",
   "execution_count": 28,
   "id": "98b20368-2166-449e-88b1-606d9fdfd3f8",
   "metadata": {},
   "outputs": [
    {
     "data": {
      "text/html": [
       "<table style='width: 100%;'><tr><th>Header</th><th>Data Arrays</th></tr><tr><td>\n",
       "<table style='width: 100%;'>\n",
       "<tr><th>PolyData</th><th>Information</th></tr>\n",
       "<tr><td>N Cells</td><td>7220</td></tr>\n",
       "<tr><td>N Points</td><td>3612</td></tr>\n",
       "<tr><td>N Strips</td><td>0</td></tr>\n",
       "<tr><td>X Bounds</td><td>4.763e+01, 7.965e+01</td></tr>\n",
       "<tr><td>Y Bounds</td><td>6.498e+01, 9.702e+01</td></tr>\n",
       "<tr><td>Z Bounds</td><td>3.728e+01, 6.926e+01</td></tr>\n",
       "<tr><td>N Arrays</td><td>14</td></tr>\n",
       "</table>\n",
       "\n",
       "</td><td>\n",
       "<table style='width: 100%;'>\n",
       "<tr><th>Name</th><th>Field</th><th>Type</th><th>N Comp</th><th>Min</th><th>Max</th></tr>\n",
       "<tr><td>inertialStressTensor</td><td>Points</td><td>float32</td><td>9</td><td>-4.168e-05</td><td>3.865e-04</td></tr>\n",
       "<tr><td>obstacleDistance</td><td>Points</td><td>float32</td><td>1</td><td>1.150e+01</td><td>3.900e+01</td></tr>\n",
       "<tr><td>obstacles</td><td>Points</td><td>float32</td><td>1</td><td>0.000e+00</td><td>0.000e+00</td></tr>\n",
       "<tr><td>pressure</td><td>Points</td><td>float32</td><td>1</td><td>-2.013e-04</td><td>2.104e-04</td></tr>\n",
       "<tr><td>velocityVector</td><td>Points</td><td>float32</td><td>3</td><td>-2.405e-03</td><td>1.965e-02</td></tr>\n",
       "<tr><td>viscousStressTensor</td><td>Points</td><td>float32</td><td>9</td><td>-1.959e-04</td><td>8.700e-05</td></tr>\n",
       "<tr><td>vtkValidPointMask</td><td>Points</td><td>int8</td><td>1</td><td>1.000e+00</td><td>1.000e+00</td></tr>\n",
       "<tr><td>vtkGhostType</td><td>Points</td><td>uint8</td><td>1</td><td>0.000e+00</td><td>0.000e+00</td></tr>\n",
       "<tr><td><b>areaDeviation</b></td><td>Points</td><td>float32</td><td>1</td><td>-3.323e-03</td><td>4.718e-03</td></tr>\n",
       "<tr><td>maxAngle</td><td>Points</td><td>float32</td><td>1</td><td>2.010e+00</td><td>2.755e+00</td></tr>\n",
       "<tr><td>particleIndex</td><td>Points</td><td>float32</td><td>1</td><td>0.000e+00</td><td>0.000e+00</td></tr>\n",
       "<tr><td>rank</td><td>Points</td><td>float32</td><td>1</td><td>1.940e+02</td><td>1.940e+02</td></tr>\n",
       "<tr><td>Area</td><td>Points</td><td>float64</td><td>1</td><td>4.119e-01</td><td>4.627e-01</td></tr>\n",
       "<tr><td>vtkGhostType</td><td>Cells</td><td>uint8</td><td>1</td><td>0.000e+00</td><td>0.000e+00</td></tr>\n",
       "</table>\n",
       "\n",
       "</td></tr> </table>"
      ],
      "text/plain": [
       "PolyData (0x7f130773d900)\n",
       "  N Cells:    7220\n",
       "  N Points:   3612\n",
       "  N Strips:   0\n",
       "  X Bounds:   4.763e+01, 7.965e+01\n",
       "  Y Bounds:   6.498e+01, 9.702e+01\n",
       "  Z Bounds:   3.728e+01, 6.926e+01\n",
       "  N Arrays:   14"
      ]
     },
     "execution_count": 28,
     "metadata": {},
     "output_type": "execute_result"
    }
   ],
   "source": [
    "test"
   ]
  },
  {
   "cell_type": "code",
   "execution_count": 29,
   "id": "bb31b400-b1bc-4ebb-8cc0-f6eae9343023",
   "metadata": {},
   "outputs": [
    {
     "data": {
      "text/plain": [
       "1609.0589386284582"
      ]
     },
     "execution_count": 29,
     "metadata": {},
     "output_type": "execute_result"
    }
   ],
   "source": [
    "test.point_data[\"Area\"].sum()\n"
   ]
  },
  {
   "cell_type": "code",
   "execution_count": 30,
   "id": "92892271-ff5d-43b6-9c0e-0b3c3738ef18",
   "metadata": {},
   "outputs": [
    {
     "data": {
      "text/plain": [
       "7220"
      ]
     },
     "execution_count": 30,
     "metadata": {},
     "output_type": "execute_result"
    }
   ],
   "source": [
    "test.n_cells"
   ]
  },
  {
   "cell_type": "code",
   "execution_count": 31,
   "id": "1d7d3734-d1fe-4550-b7b9-21f6d5f523d0",
   "metadata": {},
   "outputs": [
    {
     "data": {
      "text/plain": [
       "7220"
      ]
     },
     "execution_count": 31,
     "metadata": {},
     "output_type": "execute_result"
    }
   ],
   "source": [
    "test.n_faces"
   ]
  },
  {
   "cell_type": "code",
   "execution_count": 32,
   "id": "1d94cde4-b2e3-491e-b1f0-662c46491b74",
   "metadata": {},
   "outputs": [
    {
     "data": {
      "text/plain": [
       "3612"
      ]
     },
     "execution_count": 32,
     "metadata": {},
     "output_type": "execute_result"
    }
   ],
   "source": [
    "test.n_points"
   ]
  },
  {
   "cell_type": "code",
   "execution_count": 33,
   "id": "a6c980ea-42fd-42e1-9d92-f348df0157ff",
   "metadata": {},
   "outputs": [
    {
     "data": {
      "text/plain": [
       "0"
      ]
     },
     "execution_count": 33,
     "metadata": {},
     "output_type": "execute_result"
    }
   ],
   "source": [
    "test.n_lines"
   ]
  },
  {
   "cell_type": "code",
   "execution_count": 34,
   "id": "815e2bbc-779c-4b52-931f-57f512d9e302",
   "metadata": {},
   "outputs": [
    {
     "data": {
      "text/plain": [
       "pyvista_ndarray([[75.81499 , 89.46909 , 46.689808],\n",
       "                 [51.27837 , 89.477615, 59.90226 ],\n",
       "                 [75.81499 , 72.53091 , 46.689808],\n",
       "                 ...,\n",
       "                 [63.298992, 79.20905 , 37.405758],\n",
       "                 [62.659184, 80.09349 , 37.3785  ],\n",
       "                 [63.605587, 80.10281 , 37.316803]], dtype=float32)"
      ]
     },
     "execution_count": 34,
     "metadata": {},
     "output_type": "execute_result"
    }
   ],
   "source": [
    "test.points"
   ]
  },
  {
   "cell_type": "code",
   "execution_count": 35,
   "id": "8e0221b1-5e2d-405f-a34e-8c87711490de",
   "metadata": {},
   "outputs": [],
   "source": [
    "weights = np.zeros(test.n_points)\n",
    "for cell in test.cell:\n",
    "    vec_a = cell.points[1] - cell.points[0]\n",
    "    vec_b = cell.points[2] - cell.points[0]\n",
    "    area = 0.5 * np.linalg.norm(np.cross(vec_a, vec_b))\n",
    "    for vert in cell.point_ids:\n",
    "        weights[vert] += area / 3.0\n",
    "test.point_data[\"weights\"] = weights"
   ]
  },
  {
   "cell_type": "code",
   "execution_count": 36,
   "id": "20e44bb2-7e4a-48c9-b5e7-5550b91bb238",
   "metadata": {},
   "outputs": [
    {
     "data": {
      "text/plain": [
       "array([0.69105104, 0.68894765, 0.69105104, ..., 0.85716496, 0.85692035,\n",
       "       0.84711381])"
      ]
     },
     "execution_count": 36,
     "metadata": {},
     "output_type": "execute_result"
    }
   ],
   "source": [
    "weights"
   ]
  },
  {
   "cell_type": "code",
   "execution_count": 44,
   "id": "dd8f21ea-d5ab-4068-9738-975d18a9dacf",
   "metadata": {},
   "outputs": [
    {
     "data": {
      "text/plain": [
       "array([[-7.48106107e-06,  6.59105158e-06,  1.72612069e-05],\n",
       "       [-3.07727774e-05,  3.03773234e-05, -2.13609689e-05],\n",
       "       [-7.48106107e-06, -6.59105158e-06,  1.72612069e-05],\n",
       "       ...,\n",
       "       [ 1.24698315e-05,  2.01793599e-06,  1.39038503e-05],\n",
       "       [ 1.31064802e-05,  1.10088954e-06,  1.57256274e-05],\n",
       "       [ 1.18572941e-05,  9.70669760e-07,  1.60652299e-05]])"
      ]
     },
     "execution_count": 44,
     "metadata": {},
     "output_type": "execute_result"
    }
   ],
   "source": [
    "traction = np.empty((0,3))\n",
    "devForce = np.empty((0,3))\n",
    "inertialForce = np.empty((0,3))\n",
    "for stress, normal, weight, press in zip(test.point_data[\"viscousStressTensor\"], test.point_normals, test.point_data[\"weights\"], test.point_data[\"pressure\"]):\n",
    "    viscousStress = stress.reshape((3,3))\n",
    "    pressTensor = np.identity(3) * press\n",
    "    tractionTensor = viscousStress + pressTensor\n",
    "    traction = np.vstack((traction, tractionTensor @ normal * weight))    \n",
    "    devForce = np.vstack((devForce, viscousStress @ normal * weight))\n",
    "    inertialForce = np.vstack((inertialForce, pressTensor @ normal * weight))\n",
    "\n",
    "test.point_data[\"traction\"] = traction\n",
    "test.point_data[\"devForce\"] = devForce\n",
    "test.point_data[\"inertialForce\"] = inertialForce\n",
    "\n",
    "test.save('test.vtp')"
   ]
  },
  {
   "cell_type": "code",
   "execution_count": 38,
   "id": "a18586ed-7e24-41d4-99b1-37e415211fe1",
   "metadata": {},
   "outputs": [
    {
     "data": {
      "text/plain": [
       "pyvista_ndarray([ 1.3874999e-05, -4.7875001e-05,  1.3874999e-05, ...,\n",
       "                  1.7956250e-05,  1.9428750e-05,  1.9261250e-05],\n",
       "                dtype=float32)"
      ]
     },
     "execution_count": 38,
     "metadata": {},
     "output_type": "execute_result"
    }
   ],
   "source": [
    "test.point_data[\"pressure\"]"
   ]
  },
  {
   "cell_type": "code",
   "execution_count": 39,
   "id": "cae22dcc-74a7-4718-8043-32c7fae09523",
   "metadata": {},
   "outputs": [
    {
     "data": {
      "text/plain": [
       "pyvista_ndarray([[-0.7496653 , -0.53576785,  0.38852897],\n",
       "                 [ 0.7622213 , -0.54049253, -0.35621136],\n",
       "                 [-0.7496653 ,  0.53576785,  0.38852897],\n",
       "                 ...,\n",
       "                 [ 0.05388154,  0.11166087,  0.9922846 ],\n",
       "                 [ 0.09392958,  0.05648666,  0.9939751 ],\n",
       "                 [ 0.03473065,  0.05592673,  0.9978306 ]], dtype=float32)"
      ]
     },
     "execution_count": 39,
     "metadata": {},
     "output_type": "execute_result"
    }
   ],
   "source": [
    "test.point_normals"
   ]
  },
  {
   "cell_type": "code",
   "execution_count": 40,
   "id": "4690f773-c1a0-464e-b523-345edcb9d692",
   "metadata": {},
   "outputs": [
    {
     "data": {
      "text/plain": [
       "array([[0., 0., 0.],\n",
       "       [0., 0., 0.],\n",
       "       [0., 0., 0.],\n",
       "       ...,\n",
       "       [0., 0., 0.],\n",
       "       [0., 0., 0.],\n",
       "       [0., 0., 0.]])"
      ]
     },
     "execution_count": 40,
     "metadata": {},
     "output_type": "execute_result"
    }
   ],
   "source": [
    "np.zeros((test.n_points, 3))"
   ]
  },
  {
   "cell_type": "code",
   "execution_count": 41,
   "id": "32f0173c-73f6-4f50-b628-8eb619b99101",
   "metadata": {},
   "outputs": [],
   "source": [
    "weights = np.zeros(test.n_points)\n",
    "for cell in test.cell:\n",
    "    vec_a = cell.points[1] - cell.points[0]\n",
    "    vec_b = cell.points[2] - cell.points[0]\n",
    "    area = 0.5 * np.linalg.norm(np.cross(vec_a, vec_b))\n",
    "    for vert in cell.point_ids:\n",
    "        weights[vert] += area / 3.0\n",
    "test.point_data[\"weights\"] = weights"
   ]
  },
  {
   "cell_type": "code",
   "execution_count": null,
   "id": "ab942b00-8261-49ec-aaf6-818e0f36460d",
   "metadata": {},
   "outputs": [],
   "source": []
  }
 ],
 "metadata": {
  "kernelspec": {
   "display_name": "dev_kernel",
   "language": "python",
   "name": "dev_kernel"
  },
  "language_info": {
   "codemirror_mode": {
    "name": "ipython",
    "version": 3
   },
   "file_extension": ".py",
   "mimetype": "text/x-python",
   "name": "python",
   "nbconvert_exporter": "python",
   "pygments_lexer": "ipython3",
   "version": "3.11.5"
  }
 },
 "nbformat": 4,
 "nbformat_minor": 5
}
